{
 "cells": [
  {
   "cell_type": "markdown",
   "metadata": {},
   "source": [
    "Support Vector Machines: what do features in the implicit space mean?\n",
    "---\n",
    "\n",
    "I think a lot of SVM tutorials give all the details about the maximum margin separating hyperplane, the quadratic programming and support vectors, and the kernels, but miss one important part of the big picture. When the kernel does its implicit mapping from the original feature space to a new feature space, what does that new feature space look like? What do the features in that new space mean? This short notebook tries to fill in the missing link."
   ]
  },
  {
   "cell_type": "code",
   "execution_count": 1,
   "metadata": {
    "collapsed": true
   },
   "outputs": [],
   "source": [
    "import numpy as np, matplotlib.pyplot as plt, scipy.stats, scipy.linalg\n",
    "%matplotlib inline"
   ]
  },
  {
   "cell_type": "markdown",
   "metadata": {},
   "source": [
    "Suppose our training data $X$ is in two dimensions and consists of four points with labels -1 (blue) and +1 (red)."
   ]
  },
  {
   "cell_type": "code",
   "execution_count": 2,
   "metadata": {},
   "outputs": [
    {
     "data": {
      "image/png": "[encoded data removed]",
      "text/plain": [
       "<matplotlib.figure.Figure at 0x119eb8e10>"
      ]
     },
     "metadata": {},
     "output_type": "display_data"
    }
   ],
   "source": [
    "X = np.array([[0.5, 0.1], [0.4, 0.4], [0.6, 0.6], [0.7, 0.8]])\n",
    "y = np.array([-1, -1, 1, 1])\n",
    "y_pos = (y == 1)\n",
    "y_neg = (y == -1)\n",
    "plt.plot(X[y_neg, 0], X[y_neg, 1], '.', c='b', markersize=20, mew=2, mec='k')\n",
    "plt.plot(X[y_pos, 0], X[y_pos, 1], '.', c='r', markersize=20, mew=2, mec='k')\n",
    "plt.xlabel(r\"$x_0$\")\n",
    "plt.ylabel(r\"$x_1$\")\n",
    "plt.xlim((0, 1))\n",
    "plt.ylim((0, 1))\n",
    "plt.axes().set_aspect('equal')"
   ]
  },
  {
   "cell_type": "markdown",
   "metadata": {},
   "source": [
    "The goal of the SVM is to classify new unknown points, such as the point $q$ indicated by the green square here."
   ]
  },
  {
   "cell_type": "code",
   "execution_count": 3,
   "metadata": {},
   "outputs": [
    {
     "data": {
      "image/png": "[encoded data removed]",
      "text/plain": [
       "<matplotlib.figure.Figure at 0x11c4d00f0>"
      ]
     },
     "metadata": {},
     "output_type": "display_data"
    }
   ],
   "source": [
    "q = np.array([0.2, 0.2])\n",
    "plt.plot(X[y_neg, 0], X[y_neg, 1], '.', c='b', markersize=20, mew=2, mec='k')\n",
    "plt.plot(X[y_pos, 0], X[y_pos, 1], '.', c='r', markersize=20, mew=2, mec='k')\n",
    "plt.plot(q[0], q[1], '.', c='g', marker='s', markersize=10, mew=2, mec='k')\n",
    "plt.xlabel(r\"$x_0$\")\n",
    "plt.ylabel(r\"$x_1$\")\n",
    "plt.xlim((0, 1))\n",
    "plt.ylim((0, 1))\n",
    "plt.axes().set_aspect('equal')"
   ]
  },
  {
   "cell_type": "markdown",
   "metadata": {},
   "source": [
    "We'll use a Gaussian kernel $K_h$ with bandwidth $h$. That means that the value of $K_h(x, y)$ is the value of the pdf of a 1-dimensional Gaussian centered at $0$ with $\\sigma^2=h$, evaluated at a point a distance $|x-y|$ from the centre. Now, a kernel is a *measure of similarity*, so $K$ will be large when $x$ and $y$ are close together."
   ]
  },
  {
   "cell_type": "code",
   "execution_count": 4,
   "metadata": {
    "collapsed": true
   },
   "outputs": [],
   "source": [
    "def d(x, y):\n",
    "    return scipy.linalg.norm(x - y) # Euclidean distance\n",
    "\n",
    "def K(x, y):\n",
    "    h = 0.5\n",
    "    return scipy.stats.norm.pdf(d(x, y), loc=0, scale=h)"
   ]
  },
  {
   "cell_type": "markdown",
   "metadata": {},
   "source": [
    "Any point $q$ in the original space will be (implicitly) mapped to a point $z(q)$ in the new space, and that new point will have coordinates given by $K(q, x_i)$, for each of the support vectors $x_i$."
   ]
  },
  {
   "cell_type": "code",
   "execution_count": 5,
   "metadata": {},
   "outputs": [],
   "source": [
    "def z(q, SVs):\n",
    "    return np.array([K(q, xi) for xi in SVs])"
   ]
  },
  {
   "cell_type": "markdown",
   "metadata": {},
   "source": [
    "Our original training data maps to the new space as follows. For each point in the training data, and each support vector, we calculate $K$ between the training point and the SV, and that gives one feature $z_i$ for that training point. \n",
    "\n",
    "Let's suppose that we have exactly two support vectors, that is two of our training points become support vectors. (In a real example, the choice would be made by the quadratic programming training procedure, and there would not just be two.) It's useful to think of the SVs as the points which are closest to the boundary between classes, so we can see that the SVs will be $(0.4, 0.4), (0.6, 0.6)$ -- NB one labelled -1, the other +1."
   ]
  },
  {
   "cell_type": "code",
   "execution_count": 6,
   "metadata": {},
   "outputs": [
    {
     "data": {
      "text/plain": [
       "array([[ 0.65325263,  0.47435877],\n",
       "       [ 0.79788456,  0.67991237],\n",
       "       [ 0.67991237,  0.79788456],\n",
       "       [ 0.48394145,  0.72195581]])"
      ]
     },
     "execution_count": 6,
     "metadata": {},
     "output_type": "execute_result"
    }
   ],
   "source": [
    "SVs = X[1:3]\n",
    "Z = np.array([z(xi, SVs) for xi in X])\n",
    "Z"
   ]
  },
  {
   "cell_type": "markdown",
   "metadata": {},
   "source": [
    "We can also do the same for our query point $q$ whose label is unknown."
   ]
  },
  {
   "cell_type": "code",
   "execution_count": 7,
   "metadata": {},
   "outputs": [
    {
     "data": {
      "text/plain": [
       "array([ 0.67991237,  0.42071848])"
      ]
     },
     "execution_count": 7,
     "metadata": {},
     "output_type": "execute_result"
    }
   ],
   "source": [
    "qz = z(q, SVs)\n",
    "qz"
   ]
  },
  {
   "cell_type": "markdown",
   "metadata": {},
   "source": [
    "Here, the value approximately 0.7 is a measure of similarity between the green query point and the first SV, that is the upper blue point."
   ]
  },
  {
   "cell_type": "markdown",
   "metadata": {},
   "source": [
    "Now let's look at the implicit new space. In our example, it is of two dimensions, the same as the original space, but that isn't usually the case! The number of dimensions in the new space is equal to the number of SVs. (The reason we created just two training points is so that we would have two SVs and the new implicit feature space could be plotted easily.)\n",
    "\n",
    "The training data is mapped to locations in the new space. Eg, one blue point has location approximately $(0.8, 0.7)$, and this ($0.8 > 0.7$) reflects that in the original space, that blue point is nearer to the first support vector (ie itself!) than to the second support vector. The value 0.8 is the value of a 1D Gaussian pdf with $\\sigma^2=0.5$, evaluated at the centre, ie at the peak (because we are measuring similarity between the point and itself).\n",
    "\n",
    "The query point also has a new location. For example, its value on $z_0$ is approximately 0.7, exactly the same as the value which a red point has for $z_0$. Why? Because in the original space, that red SV and the green triangle are equally distant from the blue point.\n",
    "\n",
    "We'll plot a good-looking separating hyperplane also, and see that the query point ends up on the \"blue\" side of it as it should. (In reality, the hyperplane is determined by training, but we won't discuss it.) The hyperplane is indeed a hyperplane here, ie a line and not a curve, because the SVM is a linear classifier in the new implicit space. It may be non-linear when we view the decision function in the original space."
   ]
  },
  {
   "cell_type": "code",
   "execution_count": 8,
   "metadata": {},
   "outputs": [
    {
     "data": {
      "image/png": "[encoded data removed]",
      "text/plain": [
       "<matplotlib.figure.Figure at 0x11c62ffd0>"
      ]
     },
     "metadata": {},
     "output_type": "display_data"
    }
   ],
   "source": [
    "plt.plot(Z[y_neg, 0], Z[y_neg, 1], '.', c='b', markersize=20, mew=2, mec='k')\n",
    "plt.plot(Z[y_pos, 0], Z[y_pos, 1], '.', c='r', markersize=20, mew=2, mec='k')\n",
    "plt.plot(qz[0], qz[1], '.', c='g', marker='s', markersize=10, mew=2, mec='k')\n",
    "plt.plot((0, 1), (0, 1))\n",
    "plt.xlabel(r\"$z_0$\")\n",
    "plt.ylabel(r\"$z_1$\")\n",
    "plt.xlim((0, 1))\n",
    "plt.ylim((0, 1))\n",
    "plt.axes().set_aspect('equal')"
   ]
  },
  {
   "cell_type": "markdown",
   "metadata": {},
   "source": [
    "We can *see* the decision for the query point by seeing which side of the line it falls on. But how do we actually calculate the decision? We have a weight $w_i$ for each SV. The line is determined by the $w$. The decision function for a query point $q$ is just $\\sum_i w_i K(q, x_i) > 0$ where $x_i$ are the SVs: if yes (greater than 0), the output is +1, else -1.\n",
    "\n",
    "In our simple example, we'll set the weights $w$ to good values manually: $w = [-1, 1]$. That means that similarity to the first SV should give a *negative* contribution to the decision value, leading to a -1 outcome; similarity to the second SV should give a *positive* contribution, leading to a +1 outcome. (In our example we choose good weights by hand, but in reality, the training by QP will give us the weights. We won't discuss the QP in this notebook.)"
   ]
  },
  {
   "cell_type": "code",
   "execution_count": 9,
   "metadata": {
    "collapsed": true
   },
   "outputs": [],
   "source": [
    "x = np.linspace(0, 1, 11)\n",
    "z_0, z_1 = np.meshgrid(x, x)"
   ]
  },
  {
   "cell_type": "code",
   "execution_count": 10,
   "metadata": {
    "collapsed": true
   },
   "outputs": [],
   "source": [
    "def decision_value(q, SVs):\n",
    "    w = [-1, 1] # One weight per SV\n",
    "    wx = np.sum(w[i] * K(q, SVs[i]) for i in range(len(SVs)))\n",
    "    return wx\n",
    "\n",
    "def decision_function(q, SVs):\n",
    "    if decision_value(q, SVs) > 0: return +1\n",
    "    else                         : return -1"
   ]
  },
  {
   "cell_type": "markdown",
   "metadata": {},
   "source": [
    "For example, the decision value for $q$ is negative:"
   ]
  },
  {
   "cell_type": "code",
   "execution_count": 11,
   "metadata": {},
   "outputs": [
    {
     "data": {
      "text/plain": [
       "-0.25919388862792903"
      ]
     },
     "execution_count": 11,
     "metadata": {},
     "output_type": "execute_result"
    }
   ],
   "source": [
    "decision_value(q, SVs)"
   ]
  },
  {
   "cell_type": "code",
   "execution_count": 12,
   "metadata": {},
   "outputs": [
    {
     "data": {
      "text/plain": [
       "-1"
      ]
     },
     "execution_count": 12,
     "metadata": {},
     "output_type": "execute_result"
    }
   ],
   "source": [
    "decision_function(q, SVs)"
   ]
  },
  {
   "cell_type": "markdown",
   "metadata": {},
   "source": [
    "Now, we can plot the decision value over the original space, and superimpose the training data and query point."
   ]
  },
  {
   "cell_type": "code",
   "execution_count": 13,
   "metadata": {},
   "outputs": [],
   "source": [
    "g = 101\n",
    "grid = np.linspace(0, 1, g)\n",
    "im = np.zeros((g, g))\n",
    "for i in range(g):\n",
    "    for j in range(g):\n",
    "        im[i, j] = decision_value((grid[i], grid[j]), SVs)"
   ]
  },
  {
   "cell_type": "code",
   "execution_count": 14,
   "metadata": {},
   "outputs": [
    {
     "data": {
      "image/png": "[encoded data removed]",
      "text/plain": [
       "<matplotlib.figure.Figure at 0x11c7d8a20>"
      ]
     },
     "metadata": {},
     "output_type": "display_data"
    }
   ],
   "source": [
    "plt.imshow(im, origin='lower', extent=(0, 1, 0, 1), cmap='RdBu_r')\n",
    "plt.colorbar()\n",
    "plt.plot(X[y_neg, 0], X[y_neg, 1], '.', c='b', markersize=20, mew=2, mec='k')\n",
    "plt.plot(X[y_pos, 0], X[y_pos, 1], '.', c='r', markersize=20, mew=2, mec='k')\n",
    "plt.plot(q[0], q[1], '.', c='g', marker='s', markersize=10, mew=2, mec='k')\n",
    "plt.xlabel(r\"$x_0$\")\n",
    "plt.ylabel(r\"$x_1$\")\n",
    "plt.xlim((0, 1))\n",
    "plt.ylim((0, 1))\n",
    "plt.axes().set_aspect('equal')"
   ]
  },
  {
   "cell_type": "markdown",
   "metadata": {},
   "source": [
    "Hey, why isn't the decision boundary non-linear as promised? Well, because we only have two SVs. With more SVs, the decision boundary would still be linear in the new (now higher-dimensional) space, but non-linear in the original space."
   ]
  },
  {
   "cell_type": "markdown",
   "metadata": {},
   "source": [
    "Conclusion\n",
    "---\n",
    "\n",
    "So, an SVM can be seen as an algorithm which decides the label of a query point by testing whether it is more similar to a subset (the SVs) of the +1 examples, or to a subset (the SVs) of the -1 examples -- specifically, which side of the hyperplane it falls on, when it and the SVs are mapped to a space defined by similarity to the SVs, and a hyperplane is drawn to maximise the margin between the two classes. (The margin may also be \"soft\", ie allowing for a few training points on the wrong side of the hyperplane, but we won't discuss it.) Similarity is measured by the kernel, based ultimately on an inverse mapping of Euclidean distance. In this sense, an SVM is closely related to techniques such as $k$ nearest neighbours, kernel density classification, and dissimilarity representations (eg Duin & Pekalska, Pattern Recognition Letters 33 (2012) 826–832). \n",
    "\n",
    "Thanks to Stefano Mauceri and Loi Van Cao for useful discussions on these topics."
   ]
  },
  {
   "cell_type": "code",
   "execution_count": null,
   "metadata": {
    "collapsed": true
   },
   "outputs": [],
   "source": []
  }
 ],
 "metadata": {
  "kernelspec": {
   "display_name": "Python 3",
   "language": "python",
   "name": "python3"
  },
  "language_info": {
   "codemirror_mode": {
    "name": "ipython",
    "version": 3
   },
   "file_extension": ".py",
   "mimetype": "text/x-python",
   "name": "python",
   "nbconvert_exporter": "python",
   "pygments_lexer": "ipython3",
   "version": "3.6.0"
  }
 },
 "nbformat": 4,
 "nbformat_minor": 2
}
